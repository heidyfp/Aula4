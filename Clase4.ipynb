{
  "nbformat": 4,
  "nbformat_minor": 0,
  "metadata": {
    "colab": {
      "provenance": [],
      "authorship_tag": "ABX9TyP5w0tCaM4uxhGQZF/zzx5v",
      "include_colab_link": true
    },
    "kernelspec": {
      "name": "python3",
      "display_name": "Python 3"
    },
    "language_info": {
      "name": "python"
    }
  },
  "cells": [
    {
      "cell_type": "markdown",
      "metadata": {
        "id": "view-in-github",
        "colab_type": "text"
      },
      "source": [
        "<a href=\"https://colab.research.google.com/github/heidyfp/Aula4/blob/main/Clase4.ipynb\" target=\"_parent\"><img src=\"https://colab.research.google.com/assets/colab-badge.svg\" alt=\"Open In Colab\"/></a>"
      ]
    },
    {
      "cell_type": "markdown",
      "source": [
        "Instalando SDK do Google"
      ],
      "metadata": {
        "id": "KVnxNbfOZDHJ"
      }
    },
    {
      "cell_type": "code",
      "execution_count": 1,
      "metadata": {
        "id": "_Fq2A9l_X1OY"
      },
      "outputs": [],
      "source": [
        "!pip install -q -U google-generativeai"
      ]
    },
    {
      "cell_type": "code",
      "source": [
        "import google.generativeai as genai\n",
        "from google.colab import userdata\n",
        "GOOGLE_API_KEY = userdata.get('SECRET_KEY')\n",
        "genai.configure(api_key=GOOGLE_API_KEY)"
      ],
      "metadata": {
        "id": "zftZPkS9YUH6"
      },
      "execution_count": 1,
      "outputs": []
    },
    {
      "cell_type": "markdown",
      "source": [
        "Listar os modelos disponíveis"
      ],
      "metadata": {
        "id": "acPPFHnWZT7p"
      }
    },
    {
      "cell_type": "code",
      "source": [
        "for m in genai.list_models():\n",
        "  if 'generateContent' in m.supported_generation_methods:\n",
        "    print(m.name)"
      ],
      "metadata": {
        "colab": {
          "base_uri": "https://localhost:8080/",
          "height": 139
        },
        "id": "elWd6JwqZOly",
        "outputId": "f74c6388-c638-4618-e605-79b157aaf68a"
      },
      "execution_count": 6,
      "outputs": [
        {
          "output_type": "stream",
          "name": "stdout",
          "text": [
            "models/gemini-1.0-pro\n",
            "models/gemini-1.0-pro-001\n",
            "models/gemini-1.0-pro-latest\n",
            "models/gemini-1.0-pro-vision-latest\n",
            "models/gemini-1.5-pro-latest\n",
            "models/gemini-pro\n",
            "models/gemini-pro-vision\n"
          ]
        }
      ]
    },
    {
      "cell_type": "code",
      "source": [
        "generation_config = {\n",
        "    \"candidate_count\": 1,\n",
        "    \"temperature\": 0.5,\n",
        "}"
      ],
      "metadata": {
        "id": "yZJRfCo3eBot"
      },
      "execution_count": 5,
      "outputs": []
    },
    {
      "cell_type": "code",
      "source": [
        "safety_settings = {\n",
        "    \"HARASSMENT\": \"BLOCK_NONE\",\n",
        "    \"HATE\": \"BLOCK_NONE\",\n",
        "    \"SEXUAL\": \"BLOCK_NONE\",\n",
        "    \"DANGEROUS\": \"BLOCK_NONE\",\n",
        "}"
      ],
      "metadata": {
        "id": "KtPew3a3esNX"
      },
      "execution_count": 21,
      "outputs": []
    },
    {
      "cell_type": "markdown",
      "source": [
        "Inicializando o modelo"
      ],
      "metadata": {
        "id": "NsUXKJT-irj1"
      }
    },
    {
      "cell_type": "code",
      "source": [
        "model= genai.GenerativeModel(model_name=\"gemini-1.0-pro\",\n",
        "                             generation_config=generation_config,\n",
        "                             safety_settings=safety_settings\n",
        "                             )\n"
      ],
      "metadata": {
        "id": "9xGE0LEWiUEF"
      },
      "execution_count": 22,
      "outputs": []
    },
    {
      "cell_type": "code",
      "source": [
        "response = model.generate_content(\"Vamos aprender contenido sobre IA, Deme Sugerencias\")\n",
        "print(response.text)"
      ],
      "metadata": {
        "colab": {
          "base_uri": "https://localhost:8080/",
          "height": 836
        },
        "id": "KJ-2ZDzPj_S0",
        "outputId": "bf67475a-71d8-4a49-a170-046a89248448"
      },
      "execution_count": 23,
      "outputs": [
        {
          "output_type": "stream",
          "name": "stdout",
          "text": [
            "**Cursos en línea:**\n",
            "\n",
            "* **Coursera:**\n",
            "    * Aprendizaje automático\n",
            "    * Ciencia de datos con Python\n",
            "    * Inteligencia artificial\n",
            "* **edX:**\n",
            "    * Introducción a la inteligencia artificial\n",
            "    * Aprendizaje profundo\n",
            "    * Procesamiento del lenguaje natural\n",
            "* **Udemy:**\n",
            "    * Curso completo de inteligencia artificial\n",
            "    * Inteligencia artificial para principiantes\n",
            "    * Aprendizaje automático con Python\n",
            "\n",
            "**Libros:**\n",
            "\n",
            "* **Inteligencia artificial: un enfoque moderno (4ª edición)** - Stuart Russell y Peter Norvig\n",
            "* **Aprendizaje automático (4ª edición)** - Ethem Alpaydin\n",
            "* **Aprendizaje profundo (2ª edición)** - Ian Goodfellow, Yoshua Bengio y Aaron Courville\n",
            "* **Procesamiento del lenguaje natural con TensorFlow 2.0** - Thomas Myller\n",
            "* **Visión por computadora con TensorFlow 2.0** - Thomas Myller\n",
            "\n",
            "**Recursos en línea:**\n",
            "\n",
            "* **MIT OpenCourseWare:** Cursos de inteligencia artificial\n",
            "* **Stanford Online:** Cursos de inteligencia artificial\n",
            "* **Kaggle:** Comunidad de aprendizaje automático y ciencia de datos\n",
            "* **TensorFlow:** Marco de aprendizaje automático de código abierto\n",
            "* **PyTorch:** Marco de aprendizaje automático de código abierto\n",
            "\n",
            "**Revistas y conferencias:**\n",
            "\n",
            "* **Revista de la ACM sobre Inteligencia Artificial**\n",
            "* **Revista IEEE sobre Inteligencia Artificial**\n",
            "* **Conferencia Internacional Conjunta sobre Inteligencia Artificial (IJCAI)**\n",
            "* **Conferencia sobre el Avance de la Inteligencia Artificial (AAAI)**\n",
            "* **Conferencia Internacional sobre Aprendizaje Automático (ICML)**\n",
            "\n",
            "**Aplicaciones y herramientas:**\n",
            "\n",
            "* **ChatGPT:** Modelo de lenguaje grande para generar texto y responder preguntas\n",
            "* **DALL-E 2:** Modelo generativo para crear imágenes a partir de indicaciones de texto\n",
            "* **Stable Diffusion:** Modelo de difusión para generar imágenes a partir de indicaciones de texto\n",
            "* **TensorFlow Playground:** Herramienta interactiva para explorar conceptos de aprendizaje automático\n",
            "* **Jupyter Notebook:** Entorno de programación interactivo para ciencia de datos\n"
          ]
        }
      ]
    },
    {
      "cell_type": "code",
      "source": [
        "chat= model.start_chat(history=[])"
      ],
      "metadata": {
        "id": "yEHutSMz8ucA"
      },
      "execution_count": 24,
      "outputs": []
    },
    {
      "cell_type": "code",
      "source": [
        "prompt = input('Esperando prompt: ')\n",
        "\n",
        "while prompt!= \"fin\":\n",
        "  response = chat.send_message(prompt)\n",
        "  print('Respuesta:',response.text,'\\n')\n",
        "  prompt = input('Esperando prompt: ')"
      ],
      "metadata": {
        "colab": {
          "base_uri": "https://localhost:8080/",
          "height": 191
        },
        "id": "lsfpOpfZ9SSE",
        "outputId": "27b948d1-4d06-4ee0-a0d0-c8d0debb5cfc"
      },
      "execution_count": 27,
      "outputs": [
        {
          "name": "stdout",
          "output_type": "stream",
          "text": [
            "Esperando prompt: Cual es la capital de Japon\n",
            "Respuesta: Tokio \n",
            "\n",
            "Esperando prompt: Cual es la comida tipica de ese pais?\n",
            "Respuesta: Sushi \n",
            "\n",
            "Esperando prompt: Mi primo nacio en esa ciudad, cual es su nacionalidad? \n",
            "Respuesta: Japonesa \n",
            "\n",
            "Esperando prompt: fin\n"
          ]
        }
      ]
    },
    {
      "cell_type": "code",
      "source": [],
      "metadata": {
        "id": "zERuIVnXAi0J"
      },
      "execution_count": null,
      "outputs": []
    }
  ]
}