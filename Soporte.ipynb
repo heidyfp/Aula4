{
  "nbformat": 4,
  "nbformat_minor": 0,
  "metadata": {
    "colab": {
      "provenance": [],
      "authorship_tag": "ABX9TyOJhlB4OoSoLU+tzv/GsvEK",
      "include_colab_link": true
    },
    "kernelspec": {
      "name": "python3",
      "display_name": "Python 3"
    },
    "language_info": {
      "name": "python"
    }
  },
  "cells": [
    {
      "cell_type": "markdown",
      "metadata": {
        "id": "view-in-github",
        "colab_type": "text"
      },
      "source": [
        "<a href=\"https://colab.research.google.com/github/heidyfp/Aula4/blob/main/Soporte.ipynb\" target=\"_parent\"><img src=\"https://colab.research.google.com/assets/colab-badge.svg\" alt=\"Open In Colab\"/></a>"
      ]
    },
    {
      "cell_type": "code",
      "source": [
        "!pip install -U -q google-generativeai"
      ],
      "metadata": {
        "id": "fK0pTsJPMQJg"
      },
      "execution_count": 2,
      "outputs": []
    },
    {
      "cell_type": "code",
      "source": [
        "from flask import Flask, render_template, request\n",
        "import google.generativeai as genai\n",
        "import numpy as np\n",
        "import pandas as pd\n",
        "\n",
        "genai.configure(api_key='YOUR_API_KEY')\n",
        "from google.colab import userdata\n",
        "GOOGLE_API_KEY = userdata.get('SECRET_KEY')\n",
        "genai.configure(api_key=GOOGLE_API_KEY)\n",
        "\n",
        "app = Flask(\"Soporte_Cliente\")"
      ],
      "metadata": {
        "id": "1Dhruxyv3yHV"
      },
      "execution_count": 3,
      "outputs": []
    },
    {
      "cell_type": "code",
      "execution_count": 4,
      "metadata": {
        "id": "2II7gHNh3Kqe"
      },
      "outputs": [],
      "source": [
        "#Listando Documentos que seran buscados\n",
        "DOCUMENT1 = {\n",
        "    \"title\": \"Operating the Climate Control System\",\n",
        "    \"content\": \"Your Googlecar has a climate control system that allows you to adjust the temperature and airflow in the car. To operate the climate control system, use the buttons and knobs located on the center console.  Temperature: The temperature knob controls the temperature inside the car. Turn the knob clockwise to increase the temperature or counterclockwise to decrease the temperature. Airflow: The airflow knob controls the amount of airflow inside the car. Turn the knob clockwise to increase the airflow or counterclockwise to decrease the airflow. Fan speed: The fan speed knob controls the speed of the fan. Turn the knob clockwise to increase the fan speed or counterclockwise to decrease the fan speed. Mode: The mode button allows you to select the desired mode. The available modes are: Auto: The car will automatically adjust the temperature and airflow to maintain a comfortable level. Cool: The car will blow cool air into the car. Heat: The car will blow warm air into the car. Defrost: The car will blow warm air onto the windshield to defrost it.\"}\n",
        "\n",
        "DOCUMENT2 = {\n",
        "    \"title\": \"Touchscreen\",\n",
        "    \"content\": \"Your Googlecar has a large touchscreen display that provides access to a variety of features, including navigation, entertainment, and climate control. To use the touchscreen display, simply touch the desired icon.  For example, you can touch the \\\"Navigation\\\" icon to get directions to your destination or touch the \\\"Music\\\" icon to play your favorite songs.\"}\n",
        "\n",
        "DOCUMENT3 = {\n",
        "    \"title\": \"Shifting Gears\",\n",
        "    \"content\": \"Your Googlecar has an automatic transmission. To shift gears, simply move the shift lever to the desired position.  Park: This position is used when you are parked. The wheels are locked and the car cannot move. Reverse: This position is used to back up. Neutral: This position is used when you are stopped at a light or in traffic. The car is not in gear and will not move unless you press the gas pedal. Drive: This position is used to drive forward. Low: This position is used for driving in snow or other slippery conditions.\"}\n",
        "\n",
        "documents = [DOCUMENT1, DOCUMENT2, DOCUMENT3]\n",
        "\n"
      ]
    },
    {
      "cell_type": "code",
      "source": [
        "model = \"models/embedding-001\"\n",
        "def embed_fn(title,text, model):\n",
        "  return genai.embed_content(model=model,\n",
        "                                      content=text,\n",
        "                                      title=title,\n",
        "                                      task_type = \"RETRIEVAL_DOCUMENT\")['embedding']\n"
      ],
      "metadata": {
        "id": "rQbY1kXBRERQ"
      },
      "execution_count": 5,
      "outputs": []
    },
    {
      "cell_type": "code",
      "source": [
        "df = pd.DataFrame(documents)\n",
        "df.columns = [\"Título\",\"Conteudo\"]"
      ],
      "metadata": {
        "id": "uUCjkFuzPYw3"
      },
      "execution_count": 6,
      "outputs": []
    },
    {
      "cell_type": "code",
      "source": [
        "df[\"Embeddings\"] = df.apply(lambda row:embed_fn(row[\"Título\"], row[\"Conteudo\"], model),axis=1)"
      ],
      "metadata": {
        "id": "I6CQgEatPLFV"
      },
      "execution_count": 8,
      "outputs": []
    },
    {
      "cell_type": "code",
      "source": [
        "def gerar_e_buscar_consulta(consulta, base, model):\n",
        "  embedding_da_consulta = genai.embed_content(model=model,\n",
        "                                      content=consulta,\n",
        "                                      task_type = \"RETRIEVAL_QUERY\")\n",
        "  productos_escalares = np.dot(np.stack(df['Embeddings']), embedding_da_consulta[\"embedding\"])\n",
        "  idice = np.argmax(productos_escalares)\n",
        "  return df.iloc[idice]['Conteudo'] # Return text from index with max value"
      ],
      "metadata": {
        "id": "vvW_8HAiTLT9"
      },
      "execution_count": 9,
      "outputs": []
    },
    {
      "cell_type": "code",
      "source": [
        "generation_config = {\n",
        "    \"candidate_count\": 1,\n",
        "    \"temperature\": 0,\n",
        "}\n",
        "\n",
        "safety_settings = {\n",
        "    \"HARASSMENT\": \"BLOCK_NONE\",\n",
        "    \"HATE\": \"BLOCK_NONE\",\n",
        "    \"SEXUAL\": \"BLOCK_NONE\",\n",
        "    \"DANGEROUS\": \"BLOCK_NONE\",\n",
        "}"
      ],
      "metadata": {
        "id": "pXgQhsMsb7ko"
      },
      "execution_count": 10,
      "outputs": []
    },
    {
      "cell_type": "code",
      "source": [
        "model_2 = genai.GenerativeModel('gemini-1.0-pro', generation_config=generation_config,safety_settings=safety_settings)"
      ],
      "metadata": {
        "id": "-N7ER-lubj8I"
      },
      "execution_count": 11,
      "outputs": []
    },
    {
      "cell_type": "code",
      "source": [
        "chat= model_2.start_chat(history=[])"
      ],
      "metadata": {
        "id": "WtbziaItZeux"
      },
      "execution_count": 12,
      "outputs": []
    },
    {
      "cell_type": "code",
      "source": [
        "prompt = input('Hola, en que podemos ayudarle: ')\n",
        "\n",
        "while prompt!= \"fin\":\n",
        "  trecho = gerar_e_buscar_consulta(prompt, df, model)\n",
        "  prompt = f'Reescreva esse texto de uma forma mais descontraída, sem adicionar informações que no façam  parte do texto: {trecho}'\n",
        "  model_2 = genai.GenerativeModel('gemini-1.0-pro', generation_config=generation_config,safety_settings=safety_settings)\n",
        "  response = model_2.generate_content(prompt)\n",
        "  print(response.text, '\\n')\n",
        "  prompt = input('Hola, en que podemos ayudarle: ')"
      ],
      "metadata": {
        "colab": {
          "base_uri": "https://localhost:8080/",
          "height": 110
        },
        "id": "mtkzXl1KB8L0",
        "outputId": "e67e672d-0a3b-4c1d-abfc-a193d5d4e7e4"
      },
      "execution_count": 16,
      "outputs": [
        {
          "name": "stdout",
          "output_type": "stream",
          "text": [
            "Hola, en que podemos ayudarle: Como enciendo el googlecar\n",
            "Seu Googlecar tem uma telona sensível ao toque que te dá acesso a um monte de coisas legais, tipo GPS, música e até pra controlar o ar-condicionado. Pra usar a telona, é só tocar no ícone que você quer. Por exemplo, toca no \"GPS\" pra saber como chegar no seu destino ou no \"Música\" pra tocar suas músicas preferidas. \n",
            "\n",
            "Hola, en que podemos ayudarle: fin\n"
          ]
        }
      ]
    },
    {
      "cell_type": "code",
      "source": [
        "prompt = input('Hola, en que podemos ayudarle: ')\n",
        "\n",
        "while prompt!= \"fin\":\n",
        "  pregunta = prompt\n",
        "  trecho = gerar_e_buscar_consulta(pregunta, df, model)\n",
        "  print('Respuesta:',trecho,'\\n')\n",
        "  prompt = input('Hola, en que podemos ayudarle: ')"
      ],
      "metadata": {
        "colab": {
          "base_uri": "https://localhost:8080/",
          "height": 110
        },
        "id": "1XJq9EsfZnlD",
        "outputId": "07beeeb6-eb06-4d9d-9258-7b27c8da004b"
      },
      "execution_count": 14,
      "outputs": [
        {
          "name": "stdout",
          "output_type": "stream",
          "text": [
            "Hola, en que podemos ayudarle: como enciendo el google car\n",
            "Respuesta: Your Googlecar has a large touchscreen display that provides access to a variety of features, including navigation, entertainment, and climate control. To use the touchscreen display, simply touch the desired icon.  For example, you can touch the \"Navigation\" icon to get directions to your destination or touch the \"Music\" icon to play your favorite songs. \n",
            "\n",
            "Hola, en que podemos ayudarle: fin\n"
          ]
        }
      ]
    }
  ]
}